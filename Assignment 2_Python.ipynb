{
 "cells": [
  {
   "cell_type": "markdown",
   "id": "881ceca6-f896-4328-a0aa-7e3b7303d936",
   "metadata": {},
   "source": [
    "1. 1. Write a Python program to convert kilometers to miles?\n"
   ]
  },
  {
   "cell_type": "code",
   "execution_count": 2,
   "id": "73f8a4ac-d664-4424-92a1-948450980165",
   "metadata": {},
   "outputs": [
    {
     "name": "stdin",
     "output_type": "stream",
     "text": [
      "enter km value 5\n"
     ]
    },
    {
     "name": "stdout",
     "output_type": "stream",
     "text": [
      "5.0 km in miles = 8.20554563596261\n"
     ]
    }
   ],
   "source": [
    "km = float(input(\"enter km value\"))\n",
    "miles = km/0.609344\n",
    "print(\"{0} km in miles = {1}\".format(km,miles))"
   ]
  },
  {
   "cell_type": "markdown",
   "id": "6ebfde5a-23a5-45d4-8b53-361173222483",
   "metadata": {},
   "source": [
    "2.Write a Python program to convert Celsius to Fahrenheit?\n"
   ]
  },
  {
   "cell_type": "code",
   "execution_count": 5,
   "id": "456f1285-8067-4001-b8f1-e034d93af121",
   "metadata": {},
   "outputs": [
    {
     "name": "stdin",
     "output_type": "stream",
     "text": [
      "enter celcius value 32\n"
     ]
    },
    {
     "name": "stdout",
     "output_type": "stream",
     "text": [
      "32.0 degree celsius into farenheight = 89.6 farenheight\n"
     ]
    }
   ],
   "source": [
    "celsius = float(input(\"enter celcius value\"))\n",
    "farenheight = (((9*celsius)/5)+32)\n",
    "print(\"{0} degree celsius into farenheight = {1} farenheight\".format(celsius,farenheight))"
   ]
  },
  {
   "cell_type": "markdown",
   "id": "aa79420e-973b-43a5-9ae5-0faed74bfdcb",
   "metadata": {},
   "source": [
    "Write a Python program to display calendar?"
   ]
  },
  {
   "cell_type": "code",
   "execution_count": 8,
   "id": "756e8c31-cb9c-45c4-a172-54589e22cda6",
   "metadata": {},
   "outputs": [
    {
     "name": "stdin",
     "output_type": "stream",
     "text": [
      "Enter year:  2022\n",
      "Enter month:  9\n"
     ]
    },
    {
     "name": "stdout",
     "output_type": "stream",
     "text": [
      "   September 2022\n",
      "Mo Tu We Th Fr Sa Su\n",
      "          1  2  3  4\n",
      " 5  6  7  8  9 10 11\n",
      "12 13 14 15 16 17 18\n",
      "19 20 21 22 23 24 25\n",
      "26 27 28 29 30\n",
      "\n"
     ]
    }
   ],
   "source": [
    "import calendar  \n",
    "year = int(input(\"Enter year: \"))  \n",
    "month = int(input(\"Enter month: \"))  \n",
    "  \n",
    "print(calendar.month(year,month))  "
   ]
  },
  {
   "cell_type": "markdown",
   "id": "87272572-e484-4a0b-a8f0-c2707988ff0d",
   "metadata": {},
   "source": [
    "4. Write a Python program to solve quadratic equation?"
   ]
  },
  {
   "cell_type": "code",
   "execution_count": 11,
   "id": "f4246057-d6d7-4ff2-b825-15104304c8ff",
   "metadata": {},
   "outputs": [
    {
     "name": "stdin",
     "output_type": "stream",
     "text": [
      " 6\n",
      " 3.5\n",
      " 4.9\n"
     ]
    },
    {
     "name": "stdout",
     "output_type": "stream",
     "text": [
      "The solutions are (-0.2916666666666667-0.8553345674192189j) and (-0.2916666666666667+0.8553345674192189j)\n"
     ]
    }
   ],
   "source": [
    "import cmath\n",
    "a = float(input())\n",
    "b = float(input())\n",
    "c = float(input())\n",
    "d = (b**2) - (4*a*c)\n",
    "sol1 = (-b-cmath.sqrt(d))/(2*a)\n",
    "sol2 = (-b+cmath.sqrt(d))/(2*a)\n",
    "print('The solutions are {0} and {1}'.format(sol1,sol2))"
   ]
  },
  {
   "cell_type": "markdown",
   "id": "4472d13f-6596-4a75-923b-72e0344f3176",
   "metadata": {},
   "source": [
    "5. Write a Python program to swap two variables without temp variable?"
   ]
  },
  {
   "cell_type": "code",
   "execution_count": 13,
   "id": "4f8f7024-64e1-4e36-bd55-eec789fd86dc",
   "metadata": {},
   "outputs": [
    {
     "name": "stdin",
     "output_type": "stream",
     "text": [
      "enter no1 76\n",
      "enter no2 45\n"
     ]
    },
    {
     "name": "stdout",
     "output_type": "stream",
     "text": [
      "swap1 =  45\n",
      "swap2 =  76\n"
     ]
    }
   ],
   "source": [
    "swap1 = int(input(\"enter no1\"))\n",
    "swap2 = int(input(\"enter no2\"))\n",
    "swap1,swap2 = swap2,swap1\n",
    "print(\"swap1 = \",swap1)\n",
    "print(\"swap2 = \",swap2)"
   ]
  }
 ],
 "metadata": {
  "kernelspec": {
   "display_name": "Python 3 (ipykernel)",
   "language": "python",
   "name": "python3"
  },
  "language_info": {
   "codemirror_mode": {
    "name": "ipython",
    "version": 3
   },
   "file_extension": ".py",
   "mimetype": "text/x-python",
   "name": "python",
   "nbconvert_exporter": "python",
   "pygments_lexer": "ipython3",
   "version": "3.9.12"
  }
 },
 "nbformat": 4,
 "nbformat_minor": 5
}
