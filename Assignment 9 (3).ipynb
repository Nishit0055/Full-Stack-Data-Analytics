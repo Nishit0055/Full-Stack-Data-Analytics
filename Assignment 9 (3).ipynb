{
 "cells": [
  {
   "cell_type": "markdown",
   "id": "ec7f66fb-ebf5-4acf-87b9-e26ae8309fcd",
   "metadata": {},
   "source": [
    "Write a Python program to check if the given number is a Disarium Number?"
   ]
  },
  {
   "cell_type": "code",
   "execution_count": 5,
   "id": "c7d66c8d-d49e-43ac-9bb9-3d611648012d",
   "metadata": {},
   "outputs": [
    {
     "name": "stdin",
     "output_type": "stream",
     "text": [
      " 175\n"
     ]
    },
    {
     "name": "stdout",
     "output_type": "stream",
     "text": [
      "its a disarium number\n"
     ]
    }
   ],
   "source": [
    "num = int(input())\n",
    "rem =  0; \n",
    "out =  0\n",
    "l = len(str(num))  \n",
    "copy = num;      \n",
    "while(num > 0):    \n",
    "    rem = num % 10;    \n",
    "    out = out + int(rem**l)\n",
    "    num = num//10   \n",
    "    l = l- 1     \n",
    "if(out == copy):    \n",
    "    print( \"its a disarium number\");    \n",
    "else:    \n",
    "    print(\"its not a disarium number\");   "
   ]
  },
  {
   "cell_type": "markdown",
   "id": "1f6065e3-941d-44ee-8a09-41419711fe4d",
   "metadata": {},
   "source": [
    "Write a Python program to print all disarium numbers between 1 to 100?"
   ]
  },
  {
   "cell_type": "code",
   "execution_count": 7,
   "id": "b5933a4d-99ed-4ee6-b2a1-863d80168057",
   "metadata": {},
   "outputs": [
    {
     "name": "stdout",
     "output_type": "stream",
     "text": [
      "1\n",
      "2\n",
      "3\n",
      "4\n",
      "5\n",
      "6\n",
      "7\n",
      "8\n",
      "9\n",
      "89\n"
     ]
    }
   ],
   "source": [
    "def print_sum(num):\n",
    "    rem =  0; \n",
    "    out =  0\n",
    "    l = len(str(num))  \n",
    "    copy = num;      \n",
    "    while(num > 0):    \n",
    "        rem = num % 10\n",
    "        out = out + int(rem**l)    \n",
    "        num = num//10    \n",
    "        l = l- 1\n",
    "    return out\n",
    "\n",
    "a = 0\n",
    "\n",
    "for k in range(1,101):\n",
    "    a = print_sum(k)\n",
    "    if(a==k):\n",
    "        print(k)\n",
    "    \n",
    "    "
   ]
  },
  {
   "cell_type": "markdown",
   "id": "39bd5171-e201-455b-91bc-7143d7907b3d",
   "metadata": {},
   "source": [
    "Write a Python program to check if the given number is Happy Number?\n"
   ]
  },
  {
   "cell_type": "code",
   "execution_count": 18,
   "id": "36784e7e-9217-4721-a6d6-1fc882877ef0",
   "metadata": {},
   "outputs": [
    {
     "name": "stdin",
     "output_type": "stream",
     "text": [
      "Enter a number 13\n"
     ]
    },
    {
     "name": "stdout",
     "output_type": "stream",
     "text": [
      "Happy Number\n"
     ]
    }
   ],
   "source": [
    "num = int(input(\"Enter a number\"))\n",
    "out = 0\n",
    "rem = 0\n",
    "while out != 1 and out != 4:\n",
    "    \n",
    "    out = 0\n",
    "    while num != 0:\n",
    "        rem = num % 10\n",
    "        out += (rem * rem)\n",
    "        num //= 10\n",
    "    num = out\n",
    "\n",
    "if out == 1:\n",
    "    print(\"Happy Number\")\n",
    "else:\n",
    "    print(\"Unhappy Number\")"
   ]
  },
  {
   "cell_type": "markdown",
   "id": "0b474951-ae5e-4460-9e6f-8626afb16dd0",
   "metadata": {},
   "source": [
    "Write a Python program to print all happy numbers between 1 and 100?"
   ]
  },
  {
   "cell_type": "code",
   "execution_count": 20,
   "id": "3bfd6f16-9cdf-49c2-966e-4a7268ac0dc8",
   "metadata": {},
   "outputs": [
    {
     "name": "stdout",
     "output_type": "stream",
     "text": [
      "1\n",
      "7\n",
      "10\n",
      "13\n",
      "19\n",
      "23\n",
      "28\n",
      "31\n",
      "32\n",
      "44\n",
      "49\n",
      "68\n",
      "70\n",
      "79\n",
      "82\n",
      "86\n",
      "91\n",
      "94\n",
      "97\n",
      "100\n"
     ]
    }
   ],
   "source": [
    "def happy_number(num):\n",
    "    out = 0\n",
    "    rem = 0\n",
    "    while num != 0:\n",
    "        rem = num % 10\n",
    "        out += (rem * rem)\n",
    "        num //= 10\n",
    "    return out\n",
    "    \n",
    "for i in range(1,101):\n",
    "    res = i\n",
    "    while(res != 1 and res != 4):\n",
    "         res = happy_number(res)\n",
    "    if(res==1):\n",
    "        print(i)"
   ]
  },
  {
   "cell_type": "markdown",
   "id": "d3098661-eb98-4e61-aade-9a02f9f6b44b",
   "metadata": {},
   "source": [
    "Write a Python program to determine whether the given number is a Harshad Number?"
   ]
  },
  {
   "cell_type": "code",
   "execution_count": 24,
   "id": "e2c9627e-b759-4981-9548-6ace34572b72",
   "metadata": {},
   "outputs": [
    {
     "name": "stdin",
     "output_type": "stream",
     "text": [
      "Enter a number 1729\n"
     ]
    },
    {
     "name": "stdout",
     "output_type": "stream",
     "text": [
      "Harshad Number\n"
     ]
    }
   ],
   "source": [
    "num = int(input(\"Enter a number\"))\n",
    "out = 0\n",
    "temp = num\n",
    "while(temp > 0):\n",
    "\tout += temp % 10\n",
    "\ttemp = int(temp / 10)\n",
    "res = num % out\n",
    "if(res == 0):\n",
    "\tprint(\"Harshad Number\")\n",
    "else:\n",
    "\tprint(\"Not Harshad Number\")"
   ]
  },
  {
   "cell_type": "markdown",
   "id": "cd7d5cc5-17ba-49cd-94fe-a48a700d9759",
   "metadata": {},
   "source": [
    "Write a Python program to print all pronic numbers between 1 and 100?"
   ]
  },
  {
   "cell_type": "code",
   "execution_count": 27,
   "id": "3f5dfcf3-f51b-4435-9baa-77efce7cfe65",
   "metadata": {},
   "outputs": [
    {
     "name": "stdout",
     "output_type": "stream",
     "text": [
      "2\n",
      "6\n",
      "12\n",
      "20\n",
      "30\n",
      "42\n",
      "56\n",
      "72\n",
      "90\n"
     ]
    }
   ],
   "source": [
    "import math\n",
    "for i in range(1,101):\n",
    "    symbol = 0\n",
    "    for j in range(0, i + 1):\n",
    "        if j * (j + 1) == i:\n",
    "            symbol = 1\n",
    "            break\n",
    "    if symbol == 1:\n",
    "        print(i)"
   ]
  },
  {
   "cell_type": "code",
   "execution_count": null,
   "id": "c20ea570-bf2a-4a65-ae95-fd97f0937164",
   "metadata": {},
   "outputs": [],
   "source": []
  }
 ],
 "metadata": {
  "kernelspec": {
   "display_name": "Python 3 (ipykernel)",
   "language": "python",
   "name": "python3"
  },
  "language_info": {
   "codemirror_mode": {
    "name": "ipython",
    "version": 3
   },
   "file_extension": ".py",
   "mimetype": "text/x-python",
   "name": "python",
   "nbconvert_exporter": "python",
   "pygments_lexer": "ipython3",
   "version": "3.9.12"
  }
 },
 "nbformat": 4,
 "nbformat_minor": 5
}
