{
 "cells": [
  {
   "cell_type": "markdown",
   "id": "727e2e50-8ea4-40b3-82cd-dbde8f783b88",
   "metadata": {},
   "source": [
    "1. Write a Python program to find sum of elements in list?\n"
   ]
  },
  {
   "cell_type": "code",
   "execution_count": 1,
   "id": "3bd9dcb6-23e7-44f7-97b1-8f550194b384",
   "metadata": {},
   "outputs": [
    {
     "name": "stdout",
     "output_type": "stream",
     "text": [
      "72\n"
     ]
    }
   ],
   "source": [
    "lst = [9,3,4,12,44]\n",
    "sum = 0\n",
    "for i in lst:\n",
    "    sum = sum + i\n",
    "print(sum)"
   ]
  },
  {
   "cell_type": "markdown",
   "id": "40c736fb-7269-4b1f-9920-60a90f578408",
   "metadata": {},
   "source": [
    "2. Write a Python program to Multiply all numbers in the list"
   ]
  },
  {
   "cell_type": "code",
   "execution_count": 3,
   "id": "07116ba5-ef76-4398-a320-f3c4661da17a",
   "metadata": {},
   "outputs": [
    {
     "name": "stdout",
     "output_type": "stream",
     "text": [
      "57024\n"
     ]
    }
   ],
   "source": [
    "lst = [9,3,4,12,44]\n",
    "mul = 1\n",
    "for j in lst:\n",
    "    mul = mul*j\n",
    "print(mul)"
   ]
  },
  {
   "cell_type": "markdown",
   "id": "10067b76-c322-4d58-a86d-5398b23be7a1",
   "metadata": {},
   "source": [
    "3.Write a Python program to find smallest number in a list?"
   ]
  },
  {
   "cell_type": "code",
   "execution_count": 5,
   "id": "646a5e51-f94a-434a-8194-3eda9fad3084",
   "metadata": {},
   "outputs": [
    {
     "name": "stdout",
     "output_type": "stream",
     "text": [
      "3\n"
     ]
    }
   ],
   "source": [
    "lst = [9,3,4,12,44]\n",
    "lst.sort()\n",
    "print(lst[0])"
   ]
  },
  {
   "cell_type": "markdown",
   "id": "a088af9a-aa44-4b45-af0e-ea8037e0f391",
   "metadata": {},
   "source": [
    "4. Write a Python program to find largest number in a list?"
   ]
  },
  {
   "cell_type": "code",
   "execution_count": 8,
   "id": "005c0c33-4e81-4880-a996-fc4028ef8aa3",
   "metadata": {},
   "outputs": [
    {
     "name": "stdout",
     "output_type": "stream",
     "text": [
      "44\n"
     ]
    }
   ],
   "source": [
    "lst = [9,3,4,44,12]\n",
    "lst.sort()\n",
    "print(lst[len(lst)-1])"
   ]
  },
  {
   "cell_type": "markdown",
   "id": "bdf6725e-ebd2-4a35-b19e-36268c6c134b",
   "metadata": {},
   "source": [
    "5. Write a Python program to find second largest number in a list?"
   ]
  },
  {
   "cell_type": "code",
   "execution_count": 9,
   "id": "1e60f4a7-9798-4648-8d1c-44e97197eee5",
   "metadata": {},
   "outputs": [
    {
     "name": "stdout",
     "output_type": "stream",
     "text": [
      "12\n"
     ]
    }
   ],
   "source": [
    "lst = [9,3,4,44,12]\n",
    "lst.sort()\n",
    "print(lst[len(lst)-2])"
   ]
  },
  {
   "cell_type": "markdown",
   "id": "740d0aa1-42ed-4ec7-9446-02cf1356c44b",
   "metadata": {},
   "source": [
    "6. Write a Python program to find N largest elements from a list?"
   ]
  },
  {
   "cell_type": "code",
   "execution_count": 15,
   "id": "57489a0c-c9e9-4ebb-8107-259801e20d65",
   "metadata": {},
   "outputs": [
    {
     "name": "stdin",
     "output_type": "stream",
     "text": [
      "Enter N : 3\n"
     ]
    },
    {
     "name": "stdout",
     "output_type": "stream",
     "text": [
      "44\n",
      "12\n",
      "9\n"
     ]
    }
   ],
   "source": [
    "N = int(input(\"Enter N :\"))\n",
    "lst = [9,3,4,44,12]\n",
    "lst.sort()\n",
    "l = len(lst)\n",
    "for i in range(l-1,l-(N+1),-1):\n",
    "    print(lst[i])"
   ]
  },
  {
   "cell_type": "markdown",
   "id": "1375d615-9cfd-4452-8e45-137a66b32a2c",
   "metadata": {},
   "source": [
    "7. Write a Python program to print even numbers in a list?\n"
   ]
  },
  {
   "cell_type": "code",
   "execution_count": 17,
   "id": "6e0f6837-71d5-4ee4-8a66-486a67a9a66e",
   "metadata": {},
   "outputs": [
    {
     "name": "stdout",
     "output_type": "stream",
     "text": [
      "4\n",
      "44\n",
      "12\n"
     ]
    }
   ],
   "source": [
    "lst = [9,3,4,44,12]\n",
    "for k in lst:\n",
    "    if(k%2==0):\n",
    "        print(k)       "
   ]
  },
  {
   "cell_type": "markdown",
   "id": "ad6e7c47-7169-4fdd-89e8-ad23c4908731",
   "metadata": {},
   "source": [
    "8. Write a Python program to print odd numbers in a List?"
   ]
  },
  {
   "cell_type": "code",
   "execution_count": 22,
   "id": "e900c61c-161d-466c-b05b-38c7b79861ff",
   "metadata": {},
   "outputs": [
    {
     "name": "stdout",
     "output_type": "stream",
     "text": [
      "9\n",
      "3\n"
     ]
    }
   ],
   "source": [
    "lst = [9,3,4,44,12]\n",
    "for k in lst:\n",
    "    if(k%2!=0):\n",
    "        print(k)"
   ]
  },
  {
   "cell_type": "markdown",
   "id": "802ba21f-a905-4996-b0dc-5b454f4bfe10",
   "metadata": {},
   "source": [
    "9. Write a Python program to Remove empty List from List?"
   ]
  },
  {
   "cell_type": "code",
   "execution_count": 23,
   "id": "3cd9cfe4-ca28-4ed3-920f-35355fb9096e",
   "metadata": {},
   "outputs": [
    {
     "name": "stdout",
     "output_type": "stream",
     "text": [
      "list after removal of empty list is :  [9, 3, 4, 44, 12]\n"
     ]
    }
   ],
   "source": [
    "lst = [9,3,[],4,44,[],12]\n",
    "while([] in lst):\n",
    "    lst.remove([])\n",
    "\n",
    "print(\"list after removal of empty list is : \",str(lst))"
   ]
  },
  {
   "cell_type": "markdown",
   "id": "6116b2e6-e577-471f-b123-6df10dde4292",
   "metadata": {},
   "source": [
    "10. Write a Python program to Cloning or Copying a list?\n"
   ]
  },
  {
   "cell_type": "code",
   "execution_count": 24,
   "id": "d96b8bae-e824-4270-af86-bbad782218fc",
   "metadata": {},
   "outputs": [
    {
     "name": "stdout",
     "output_type": "stream",
     "text": [
      "[9, 3, 4, 44, 12]\n",
      "[9, 3, 4, 44, 12]\n"
     ]
    }
   ],
   "source": [
    "lst = [9,3,4,44,12]\n",
    "lst_copy = list(lst)\n",
    "print(lst)\n",
    "print(lst_copy)"
   ]
  },
  {
   "cell_type": "markdown",
   "id": "1dd4fc85-6392-42eb-9adf-70df08913d59",
   "metadata": {},
   "source": [
    "11. Write a Python program to Count occurrences of an element in a list?"
   ]
  },
  {
   "cell_type": "code",
   "execution_count": 30,
   "id": "1c63bd9d-e5ed-427d-ae1d-edebf0dfd468",
   "metadata": {},
   "outputs": [
    {
     "name": "stdin",
     "output_type": "stream",
     "text": [
      "enter the element : 33\n"
     ]
    },
    {
     "name": "stdout",
     "output_type": "stream",
     "text": [
      "4\n"
     ]
    }
   ],
   "source": [
    "lst = [33,12,33,45,56,22,33,33]\n",
    "count = 0\n",
    "ele = int(input(\"enter the element :\"))\n",
    "for m in lst:\n",
    "    if(m == ele):\n",
    "        count = count + 1\n",
    "    \n",
    "print(count)"
   ]
  },
  {
   "cell_type": "code",
   "execution_count": null,
   "id": "41a3bd3e-a1f2-49de-bc5a-100a81f4027b",
   "metadata": {},
   "outputs": [],
   "source": []
  }
 ],
 "metadata": {
  "kernelspec": {
   "display_name": "Python 3 (ipykernel)",
   "language": "python",
   "name": "python3"
  },
  "language_info": {
   "codemirror_mode": {
    "name": "ipython",
    "version": 3
   },
   "file_extension": ".py",
   "mimetype": "text/x-python",
   "name": "python",
   "nbconvert_exporter": "python",
   "pygments_lexer": "ipython3",
   "version": "3.9.12"
  }
 },
 "nbformat": 4,
 "nbformat_minor": 5
}
