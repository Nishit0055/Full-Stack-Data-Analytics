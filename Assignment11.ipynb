{
 "cells": [
  {
   "cell_type": "markdown",
   "id": "aaea3099-0369-45c6-94d9-c47f7b46db51",
   "metadata": {},
   "source": [
    "1. Write a Python program to find words which are greater than given length k?"
   ]
  },
  {
   "cell_type": "code",
   "execution_count": null,
   "id": "46067632-4fae-4723-94d6-5981d9d59b8e",
   "metadata": {},
   "outputs": [],
   "source": [
    "def find_word(k, s):    \n",
    "    word = s.split(\" \")\n",
    "    for x in word:\n",
    "        if len(x)>k:\n",
    "            print(x)\n",
    "k = 3\n",
    "s =\"My name is Nishit\"\n",
    "find_word(k, s)"
   ]
  },
  {
   "cell_type": "markdown",
   "id": "d8519b96-0969-496a-801c-f1eee8adfc75",
   "metadata": {},
   "source": [
    "2. Write a Python program for removing i-th character from a string?\n"
   ]
  },
  {
   "cell_type": "code",
   "execution_count": 4,
   "id": "711c126a-9007-402c-80f8-48fc933c3124",
   "metadata": {},
   "outputs": [
    {
     "name": "stdout",
     "output_type": "stream",
     "text": [
      "After removing:  nihit\n"
     ]
    }
   ],
   "source": [
    "s = \"nishit\"\n",
    "i = 3\n",
    "new_str = \"\"\n",
    "for j in range(len(s)):\n",
    "    if j != i-1:\n",
    "        new_str = new_str + s[j]\n",
    "print(\"After removing: \",new_str)"
   ]
  },
  {
   "cell_type": "markdown",
   "id": "25b61377-9d58-424b-9957-8382c79e512d",
   "metadata": {},
   "source": [
    "3. Write a Python program to split and join a string?"
   ]
  },
  {
   "cell_type": "code",
   "execution_count": 9,
   "id": "72ba51df-63f7-427c-b4e4-309d904e418e",
   "metadata": {},
   "outputs": [
    {
     "name": "stdout",
     "output_type": "stream",
     "text": [
      "splitted string =  ['My', 'name', 'is', 'nishit']\n",
      "joined string =  My-name-is-nishit\n"
     ]
    }
   ],
   "source": [
    "s = \"My name is nishit\"\n",
    "s = s.split(\" \")\n",
    "print(\"splitted string = \",s)\n",
    "s = \"-\".join(s)\n",
    "print(\"joined string = \",s)"
   ]
  },
  {
   "cell_type": "markdown",
   "id": "4d7f4042-c830-430c-a6e4-3e2530c5d703",
   "metadata": {},
   "source": [
    "4. Write a Python to check if a given string is binary string or not?\n"
   ]
  },
  {
   "cell_type": "code",
   "execution_count": 13,
   "id": "f95a89a0-1643-47c3-8180-f9e1ca78f5f2",
   "metadata": {},
   "outputs": [
    {
     "name": "stdout",
     "output_type": "stream",
     "text": [
      "Binary String\n"
     ]
    }
   ],
   "source": [
    "st = \"1001101\"\n",
    "a = set(st)\n",
    "s = {'0', '1'}\n",
    "if (s == a or a == {'0'} or a == {'1'}):\n",
    "    print(\"Binary String\")\n",
    "else :\n",
    "    print(\"not a Binary String\")"
   ]
  },
  {
   "cell_type": "markdown",
   "id": "36f8f43c-7b80-4852-be4f-dfd7040f8498",
   "metadata": {},
   "source": [
    "5. Write a Python program to find uncommon words from two Strings?"
   ]
  },
  {
   "cell_type": "code",
   "execution_count": 18,
   "id": "54a31b3f-b36a-4bc6-9a67-c291dad63905",
   "metadata": {},
   "outputs": [
    {
     "name": "stdout",
     "output_type": "stream",
     "text": [
      "Nishit\n"
     ]
    }
   ],
   "source": [
    "str1 = \"My Name is Nishit\"\n",
    "str2 = \"My Name is Sanket\"\n",
    "\n",
    "uncommon = {}\n",
    "\n",
    "for i in str1.split():\n",
    "\tuncommon[i] = uncommon.get(i, 0) + 1\n",
    "\n",
    "for word in str2.split():\n",
    "\tuncommon[word] = uncommon.get(i, 0) + 1\n",
    "\n",
    "for i in uncommon:\n",
    "    if(uncommon[i]==1):\n",
    "        print(i)"
   ]
  },
  {
   "cell_type": "code",
   "execution_count": 20,
   "id": "3fb983d6-7927-4909-bda0-4351cc860e18",
   "metadata": {},
   "outputs": [
    {
     "name": "stdout",
     "output_type": "stream",
     "text": [
      "['Nishit', 'Sanket']\n"
     ]
    }
   ],
   "source": [
    "def UncommonWords(A, B):\n",
    "\tcount = {}\n",
    "\tfor word in A.split():\n",
    "\t\tcount[word] = count.get(word, 0) + 1\n",
    "\tfor word in B.split():\n",
    "\t\tcount[word] = count.get(word, 0) + 1\n",
    "\treturn [word for word in count if count[word] == 1]\n",
    "\n",
    "A = \"My Name is Nishit\"\n",
    "B = \"My Name is Sanket\"\n",
    "\n",
    "print(UncommonWords(A, B))\n"
   ]
  },
  {
   "cell_type": "markdown",
   "id": "ae99145f-ffcb-478d-8dc5-04c1e33e447d",
   "metadata": {},
   "source": [
    "6. Write a Python to find all duplicate characters in string?"
   ]
  },
  {
   "cell_type": "code",
   "execution_count": 24,
   "id": "fc06225b-c2c3-4444-9b82-888e07ab7300",
   "metadata": {},
   "outputs": [
    {
     "name": "stdin",
     "output_type": "stream",
     "text": [
      "enter string shawarmas\n"
     ]
    },
    {
     "name": "stdout",
     "output_type": "stream",
     "text": [
      "The duplicate characters are ['s', 'a']\n"
     ]
    }
   ],
   "source": [
    "string = input(\"enter string\")\n",
    "duplicate={}\n",
    "for x in string:\n",
    "    if x not in duplicate:\n",
    "        duplicate[x]=0\n",
    "    else:\n",
    "        duplicate[x]+=1\n",
    "ans = []\n",
    "for keys,vals in duplicate.items():\n",
    "    if vals>0:\n",
    "        ans.append(keys)\n",
    "print('The duplicate characters are {}'.format(ans))"
   ]
  },
  {
   "cell_type": "markdown",
   "id": "5ff9679b-8a0b-4cc0-878a-da77d808e277",
   "metadata": {},
   "source": [
    "7. Write a Python Program to check if a string contains any special character?"
   ]
  },
  {
   "cell_type": "code",
   "execution_count": 26,
   "id": "9ef0c008-e985-4a24-801c-1aed6456cfdd",
   "metadata": {},
   "outputs": [
    {
     "name": "stdin",
     "output_type": "stream",
     "text": [
      "enter string nis@hi$\n"
     ]
    },
    {
     "name": "stdout",
     "output_type": "stream",
     "text": [
      "present\n"
     ]
    }
   ],
   "source": [
    "import re\n",
    "string = input(\"enter string\")\n",
    "regex = re.compile('[@_!#$%^&*()<>?/\\|}{~:]')\n",
    "if(regex.search(string) == None):\n",
    "\tprint(\"no special characters are there\")\n",
    "else:\n",
    "\tprint(\"present\")"
   ]
  },
  {
   "cell_type": "code",
   "execution_count": null,
   "id": "fe88a38c-a607-4401-bf00-bbb4227fd778",
   "metadata": {},
   "outputs": [],
   "source": []
  }
 ],
 "metadata": {
  "kernelspec": {
   "display_name": "Python 3 (ipykernel)",
   "language": "python",
   "name": "python3"
  },
  "language_info": {
   "codemirror_mode": {
    "name": "ipython",
    "version": 3
   },
   "file_extension": ".py",
   "mimetype": "text/x-python",
   "name": "python",
   "nbconvert_exporter": "python",
   "pygments_lexer": "ipython3",
   "version": "3.9.12"
  }
 },
 "nbformat": 4,
 "nbformat_minor": 5
}
