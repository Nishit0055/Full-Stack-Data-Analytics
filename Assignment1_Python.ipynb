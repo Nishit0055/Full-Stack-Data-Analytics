{
 "cells": [
  {
   "cell_type": "markdown",
   "id": "35d9120e-6103-4a68-9ef1-4161a937b426",
   "metadata": {},
   "source": [
    "1) Write a Python program to print \"Hello Python\"?"
   ]
  },
  {
   "cell_type": "code",
   "execution_count": 4,
   "id": "356a4d0c-3b9b-479b-8877-f675c3d614aa",
   "metadata": {},
   "outputs": [
    {
     "name": "stdout",
     "output_type": "stream",
     "text": [
      "hello world\n"
     ]
    }
   ],
   "source": [
    "print(\"hello world\")"
   ]
  },
  {
   "cell_type": "markdown",
   "id": "c1174415-a30d-4225-b60c-098be7d5acaf",
   "metadata": {},
   "source": [
    "2) Write a Python program to do arithmetical operations addition and division.?"
   ]
  },
  {
   "cell_type": "code",
   "execution_count": 12,
   "id": "ccecbbcd-602c-4bb2-b4a8-1bb261a9a004",
   "metadata": {},
   "outputs": [
    {
     "name": "stdin",
     "output_type": "stream",
     "text": [
      "Enter first number 27\n",
      "Enter second number 8\n"
     ]
    },
    {
     "name": "stdout",
     "output_type": "stream",
     "text": [
      "Addition of a and b is 35.0\n",
      "Division of a and b is 3.375\n"
     ]
    }
   ],
   "source": [
    "a = float(input(\"Enter first number\"))\n",
    "b = float(input(\"Enter second number\"))\n",
    "c = a+b\n",
    "d = a/b\n",
    "print(\"Addition of a and b is {0}\".format(c))\n",
    "print(\"Division of a and b is {0}\".format(d))"
   ]
  },
  {
   "cell_type": "markdown",
   "id": "8a6093de-76d6-4dfd-a543-89112fa2566c",
   "metadata": {},
   "source": [
    "3) Write a Python program to find the area of a triangle?"
   ]
  },
  {
   "cell_type": "code",
   "execution_count": 13,
   "id": "14463d27-66d5-4343-98ed-f5c318d6cc3a",
   "metadata": {},
   "outputs": [
    {
     "name": "stdin",
     "output_type": "stream",
     "text": [
      "Enter base 6\n",
      "enter height 5\n"
     ]
    },
    {
     "name": "stdout",
     "output_type": "stream",
     "text": [
      "Area of the Triangle is  15.0\n"
     ]
    }
   ],
   "source": [
    "base = float(input(\"Enter base\"))\n",
    "height = float(input(\"enter height\"))\n",
    "area = 0.5*base*height\n",
    "print(\"Area of the Triangle is \",area)"
   ]
  },
  {
   "cell_type": "markdown",
   "id": "2ad81445-0a66-4ef3-af43-5a36f57793e3",
   "metadata": {},
   "source": [
    "4) Write a Python program to swap two variables?"
   ]
  },
  {
   "cell_type": "code",
   "execution_count": 15,
   "id": "824d73a2-2b03-4e28-b3d4-d57d66015d71",
   "metadata": {},
   "outputs": [
    {
     "name": "stdout",
     "output_type": "stream",
     "text": [
      "p =  20\n",
      "q =  10\n"
     ]
    }
   ],
   "source": [
    "p = 10\n",
    "q = 20\n",
    "p,q = q,p\n",
    "print(\"p = \",p)\n",
    "print(\"q = \",q)"
   ]
  },
  {
   "cell_type": "markdown",
   "id": "3ec2960e-01d4-4591-877d-c7f0fbbdb165",
   "metadata": {},
   "source": [
    "5. Write a Python program to generate a random number?\n"
   ]
  },
  {
   "cell_type": "code",
   "execution_count": 18,
   "id": "48020a38-1726-42ab-8670-e049bf503981",
   "metadata": {},
   "outputs": [
    {
     "name": "stdout",
     "output_type": "stream",
     "text": [
      "0.27155920997387717\n"
     ]
    }
   ],
   "source": [
    "import random\n",
    "\n",
    "rand_num = random.random() #generates a random number between 0 and 1\n",
    "print(rand_num)"
   ]
  }
 ],
 "metadata": {
  "kernelspec": {
   "display_name": "Python 3 (ipykernel)",
   "language": "python",
   "name": "python3"
  },
  "language_info": {
   "codemirror_mode": {
    "name": "ipython",
    "version": 3
   },
   "file_extension": ".py",
   "mimetype": "text/x-python",
   "name": "python",
   "nbconvert_exporter": "python",
   "pygments_lexer": "ipython3",
   "version": "3.9.12"
  }
 },
 "nbformat": 4,
 "nbformat_minor": 5
}
