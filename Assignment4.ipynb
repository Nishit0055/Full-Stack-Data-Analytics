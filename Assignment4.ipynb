{
 "cells": [
  {
   "cell_type": "markdown",
   "id": "91554149-7e56-4e4f-b901-3e99bebef8de",
   "metadata": {},
   "source": [
    "Write a Python Program to Find the Factorial of a Number?"
   ]
  },
  {
   "cell_type": "code",
   "execution_count": 4,
   "id": "1b4f3d5f-3a64-4cbe-910b-5903a60a6556",
   "metadata": {},
   "outputs": [
    {
     "name": "stdin",
     "output_type": "stream",
     "text": [
      "enter a number 8\n"
     ]
    },
    {
     "name": "stdout",
     "output_type": "stream",
     "text": [
      "The factorial of 8 is 40320\n"
     ]
    }
   ],
   "source": [
    "num = int(input(\"enter a number\"))\n",
    "fact = 1\n",
    "if num < 0:   \n",
    "    print(\"Factorial does not exist\")\n",
    "elif num == 0:\n",
    "    print(\"Factorial of 0 is 1\")\n",
    "else:\n",
    "    for i in range(1,num + 1):\n",
    "        fact = fact*i\n",
    "    print(\"The factorial of\",num,\"is\",fact)"
   ]
  },
  {
   "cell_type": "markdown",
   "id": "a21be936-88d6-4b7d-9f01-d916a83ccfaf",
   "metadata": {},
   "source": [
    "Write a Python Program to Display the multiplication Table?"
   ]
  },
  {
   "cell_type": "code",
   "execution_count": 7,
   "id": "6f344409-5d79-410b-be62-de7a87f14bbc",
   "metadata": {},
   "outputs": [
    {
     "name": "stdin",
     "output_type": "stream",
     "text": [
      "Enter a number 8\n"
     ]
    },
    {
     "name": "stdout",
     "output_type": "stream",
     "text": [
      "8 x 1 = 8\n",
      "8 x 2 = 16\n",
      "8 x 3 = 24\n",
      "8 x 4 = 32\n",
      "8 x 5 = 40\n",
      "8 x 6 = 48\n",
      "8 x 7 = 56\n",
      "8 x 8 = 64\n",
      "8 x 9 = 72\n",
      "8 x 10 = 80\n"
     ]
    }
   ],
   "source": [
    "mul_table = int(input(\"Enter a number\"))\n",
    "for j in range(1, 11):\n",
    "    print(mul_table, \"x\", j, \"=\", mul_table*j)"
   ]
  },
  {
   "cell_type": "markdown",
   "id": "122d5385-8cf0-4799-a7fe-8b9cd25b8f36",
   "metadata": {},
   "source": [
    "Write a Python Program to Print the Fibonacci sequence?\n"
   ]
  },
  {
   "cell_type": "code",
   "execution_count": 9,
   "id": "ce3142e9-6d49-4988-b9e5-be6a390197e6",
   "metadata": {},
   "outputs": [
    {
     "name": "stdin",
     "output_type": "stream",
     "text": [
      "enter first number 2\n",
      "enter second number 4\n",
      "how many terms? 5\n"
     ]
    },
    {
     "name": "stdout",
     "output_type": "stream",
     "text": [
      "2\n",
      "4\n",
      "6\n",
      "10\n",
      "16\n"
     ]
    }
   ],
   "source": [
    "a = int(input(\"enter first number\"))\n",
    "b = int(input(\"enter second number\"))\n",
    "l = int(input(\"how many terms?\"))\n",
    "k = 3\n",
    "print(a)\n",
    "print(b)\n",
    "while(k<=l):\n",
    "    c = a+b\n",
    "    print(c)\n",
    "    a = b\n",
    "    b = c\n",
    "    k = k+1"
   ]
  },
  {
   "cell_type": "markdown",
   "id": "f263495c-8cc4-4673-af42-83b205ee138e",
   "metadata": {},
   "source": [
    "Write a Python Program to Check Armstrong Number?"
   ]
  },
  {
   "cell_type": "code",
   "execution_count": 12,
   "id": "cc033986-d084-4a51-891f-4df8ad482bd9",
   "metadata": {},
   "outputs": [
    {
     "name": "stdin",
     "output_type": "stream",
     "text": [
      "Enter a number 153\n"
     ]
    },
    {
     "name": "stdout",
     "output_type": "stream",
     "text": [
      "153 is an Armstrong number\n"
     ]
    }
   ],
   "source": [
    "temp = int(input(\"Enter a number\"))\n",
    "count = 0\n",
    "power = len(str(temp))\n",
    "num = temp\n",
    "while(temp>0):\n",
    "    mod_val = temp%10\n",
    "    count = count + mod_val**power\n",
    "    temp = temp//10\n",
    "if(count == num):\n",
    "    print(\"{0} is an Armstrong number\".format(num))\n",
    "else:\n",
    "    print(\"{0} is not an Armstrong number\".format(num))"
   ]
  },
  {
   "cell_type": "markdown",
   "id": "1ece7996-e5d6-442f-af96-547f0e378424",
   "metadata": {},
   "source": [
    "Write a Python Program to Find Armstrong Number in an Interval?"
   ]
  },
  {
   "cell_type": "code",
   "execution_count": 15,
   "id": "3ace8fce-db31-4061-982f-c9e19ab35ce6",
   "metadata": {},
   "outputs": [
    {
     "name": "stdin",
     "output_type": "stream",
     "text": [
      "enter lower interval 1\n",
      "enter higher interval 10000\n"
     ]
    },
    {
     "name": "stdout",
     "output_type": "stream",
     "text": [
      "1, 2, 3, 4, 5, 6, 7, 8, 9, 153, 370, 371, 407, 1634, 8208, 9474, "
     ]
    }
   ],
   "source": [
    "low = int(input(\"enter lower interval\"))\n",
    "high = int(input(\"enter higher interval\"))\n",
    "for i in range(low,high+1):\n",
    "    power = len(str(i))\n",
    "    res = 0\n",
    "    temp = i\n",
    "    while(temp>0):\n",
    "        mod_val = temp%10\n",
    "        res = res + mod_val**power\n",
    "        temp = temp//10\n",
    "    if(i==res):\n",
    "        print(i,end = \", \")\n",
    "        \n",
    "        \n",
    "        "
   ]
  },
  {
   "cell_type": "markdown",
   "id": "c4a42215-910b-4200-ae66-8c4442245e64",
   "metadata": {},
   "source": [
    "Write a Python Program to Find the Sum of Natural Numbers?"
   ]
  },
  {
   "cell_type": "code",
   "execution_count": 16,
   "id": "b3383011-8067-47b2-bd3a-25a1610067a6",
   "metadata": {},
   "outputs": [
    {
     "name": "stdin",
     "output_type": "stream",
     "text": [
      "enter any number 22\n"
     ]
    },
    {
     "name": "stdout",
     "output_type": "stream",
     "text": [
      "sum of 1 to 22 is 253\n"
     ]
    }
   ],
   "source": [
    "num = int(input(\"enter any number\"))\n",
    "i = 1\n",
    "result = 0\n",
    "while(i<=num):\n",
    "    result= result + i\n",
    "    i = i + 1\n",
    "print(\"sum of 1 to {0} is {1}\".format(num,result))\n",
    "\n",
    "    "
   ]
  }
 ],
 "metadata": {
  "kernelspec": {
   "display_name": "Python 3 (ipykernel)",
   "language": "python",
   "name": "python3"
  },
  "language_info": {
   "codemirror_mode": {
    "name": "ipython",
    "version": 3
   },
   "file_extension": ".py",
   "mimetype": "text/x-python",
   "name": "python",
   "nbconvert_exporter": "python",
   "pygments_lexer": "ipython3",
   "version": "3.9.12"
  }
 },
 "nbformat": 4,
 "nbformat_minor": 5
}
