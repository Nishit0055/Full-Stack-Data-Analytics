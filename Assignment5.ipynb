{
 "cells": [
  {
   "cell_type": "markdown",
   "id": "704e1327-5d27-444d-8855-2aeb5bc92622",
   "metadata": {},
   "source": [
    "Write a Python Program to Find LCM?"
   ]
  },
  {
   "cell_type": "code",
   "execution_count": 5,
   "id": "2bdc633b-f459-4f2d-b5af-ff2bd1d34955",
   "metadata": {},
   "outputs": [
    {
     "name": "stdin",
     "output_type": "stream",
     "text": [
      "Enter the first number: 4\n",
      "Enter the second number:  6\n"
     ]
    },
    {
     "name": "stdout",
     "output_type": "stream",
     "text": [
      "12\n"
     ]
    }
   ],
   "source": [
    "num1 = int (input (\"Enter the first number:\"))\n",
    "num2 = int (input (\"Enter the second number: \"))\n",
    "if(num1>num2):\n",
    "    larger = num1\n",
    "else:\n",
    "    larger = num2\n",
    "    while (True):\n",
    "        if ((larger % num1 == 0) and (larger % num2 == 0 )):\n",
    "            lcm = larger\n",
    "            break \n",
    "        larger += 1\n",
    "\n",
    "print(lcm) "
   ]
  },
  {
   "cell_type": "markdown",
   "id": "4aaa115a-cb02-4efe-977e-494c5f265d18",
   "metadata": {},
   "source": [
    "Write a Python Program to Find HCF?"
   ]
  },
  {
   "cell_type": "code",
   "execution_count": 10,
   "id": "bf2fba93-d52c-4345-9119-3bfa218cb86d",
   "metadata": {},
   "outputs": [
    {
     "name": "stdin",
     "output_type": "stream",
     "text": [
      "Enter first number:  42\n",
      "Enter second number:  14\n"
     ]
    },
    {
     "name": "stdout",
     "output_type": "stream",
     "text": [
      "14\n"
     ]
    }
   ],
   "source": [
    "num1 = int(input(\"Enter first number: \"))  \n",
    "num2 = int(input(\"Enter second number: \"))\n",
    " \n",
    "i = 1\n",
    "while(i <= num1 and i <= num2):\n",
    "    if(num1 % i == 0 and num2 % i == 0):\n",
    "        hcf = i\n",
    "    i = i + 1\n",
    " \n",
    "print(hcf)"
   ]
  },
  {
   "cell_type": "markdown",
   "id": "91d4b109-3bca-4676-a83b-3c1a9943e89f",
   "metadata": {},
   "source": [
    "Write a Python Program to Convert Decimal to Binary, Octal and Hexadecimal"
   ]
  },
  {
   "cell_type": "code",
   "execution_count": 13,
   "id": "54becbfb-d4dc-4c85-8468-71b7eaeed6c0",
   "metadata": {},
   "outputs": [
    {
     "name": "stdin",
     "output_type": "stream",
     "text": [
      "enter decimal number 64\n"
     ]
    },
    {
     "name": "stdout",
     "output_type": "stream",
     "text": [
      "to binary- 0b1000000\n",
      "to octal- 0o100\n",
      "to hexadecimal- 0x40\n"
     ]
    }
   ],
   "source": [
    "decimal = int(input(\"enter decimal number\"))\n",
    "print(\"to binary-\",bin(decimal))\n",
    "print(\"to octal-\",oct(decimal))\n",
    "print(\"to hexadecimal-\",hex(decimal))\n"
   ]
  },
  {
   "cell_type": "markdown",
   "id": "8310b35b-6103-4689-b011-c0d431e3e389",
   "metadata": {},
   "source": [
    "Write a Python Program To Find ASCII value of a character?"
   ]
  },
  {
   "cell_type": "code",
   "execution_count": 16,
   "id": "efa98f97-fc72-466d-b1ce-bc540078727d",
   "metadata": {},
   "outputs": [
    {
     "name": "stdin",
     "output_type": "stream",
     "text": [
      "enter character z\n"
     ]
    },
    {
     "name": "stdout",
     "output_type": "stream",
     "text": [
      "ascii value =  122\n"
     ]
    }
   ],
   "source": [
    "char = input(\"enter character\")\n",
    "ans = ord(char)\n",
    "print(\"ascii value = \",ans)"
   ]
  },
  {
   "cell_type": "markdown",
   "id": "29a33a11-6fc4-41d6-9278-f41f9092191e",
   "metadata": {},
   "source": [
    "Write a Python Program to Make a Simple Calculator with 4 basic mathematical operations?"
   ]
  },
  {
   "cell_type": "code",
   "execution_count": null,
   "id": "a43fc2e3-903d-4feb-b207-24e9bef5a2e6",
   "metadata": {},
   "outputs": [],
   "source": [
    "def add(a, b):\n",
    "    return a + z\n",
    "\n",
    "def subtract(a, b):\n",
    "    return a - b\n",
    "\n",
    "def multiply(a, b):\n",
    "    return a * z\n",
    "\n",
    "def divide(a, b):\n",
    "    return a / b\n",
    "\n",
    "print(\"What do you want to perform\")\n",
    "print(\"1.Addition\")\n",
    "print(\"2.Subtraction\")\n",
    "print(\"3.Multiplication\")\n",
    "print(\"4.Division\")\n",
    "\n",
    "while True:\n",
    "    \n",
    "    choice = input(\"Enter choice - 1/2/3/4\")\n",
    "\n",
    "    if choice in ('1', '2', '3', '4'):\n",
    "        numb1 = float(input(\"Enter first number: \"))\n",
    "        numb2 = float(input(\"Enter second number: \"))\n",
    "\n",
    "        if choice == '1':\n",
    "            print(numb1, \"+\", numb2, \"=\", add(numb1, numb2))\n",
    "            \n",
    "        elif choice == '2':\n",
    "            print(numb1, \"-\", numb2, \"=\", subtract(numb1, numb2))\n",
    "\n",
    "\n",
    "\n",
    "        elif choice == '3':\n",
    "\n",
    "            print(numb1, \"*\", numb2, \"=\", multiply(numb1, numb2))\n",
    "\n",
    "\n",
    "\n",
    "        elif choice == '4':\n",
    "\n",
    "            print(numb1, \"/\", numb2, \"=\", divide(numb1, numb2))\n",
    "\n",
    "        break\n",
    "\n",
    "    else:\n",
    "\n",
    "        print(\"Invalid Input\")\n"
   ]
  }
 ],
 "metadata": {
  "kernelspec": {
   "display_name": "Python 3 (ipykernel)",
   "language": "python",
   "name": "python3"
  },
  "language_info": {
   "codemirror_mode": {
    "name": "ipython",
    "version": 3
   },
   "file_extension": ".py",
   "mimetype": "text/x-python",
   "name": "python",
   "nbconvert_exporter": "python",
   "pygments_lexer": "ipython3",
   "version": "3.9.12"
  }
 },
 "nbformat": 4,
 "nbformat_minor": 5
}
