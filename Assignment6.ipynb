{
 "cells": [
  {
   "cell_type": "markdown",
   "id": "71186152-cc79-4dbc-9234-ca2106ccc3d6",
   "metadata": {},
   "source": [
    "Write a Python Program to Display Fibonacci Sequence Using Recursion?"
   ]
  },
  {
   "cell_type": "code",
   "execution_count": 1,
   "id": "4194bc0b-d59f-4b2a-ac64-4c9e711c126d",
   "metadata": {},
   "outputs": [
    {
     "name": "stdin",
     "output_type": "stream",
     "text": [
      "Enter a number 10\n"
     ]
    },
    {
     "name": "stdout",
     "output_type": "stream",
     "text": [
      "[0, 1, 1, 2, 3, 5, 8, 13, 21, 34]\n"
     ]
    }
   ],
   "source": [
    "def fibonacci(n):\n",
    "\tif n<=1:\n",
    "\t\treturn n\n",
    "\telse:\n",
    "\t\treturn(fibonacci(n-1) + fibonacci(n-2))\n",
    "\n",
    "n = int(input(\"Enter a number\"))\n",
    "\n",
    "series = []\n",
    "\n",
    "for k in range(0,n):\n",
    "\tseries.append(fibonacci(k))\n",
    "\t\n",
    "print(series)"
   ]
  },
  {
   "cell_type": "markdown",
   "id": "5249c93c-67a2-46f7-adbd-26e46d371fa4",
   "metadata": {},
   "source": [
    "Write a Python Program to Find Factorial of Number Using Recursion?"
   ]
  },
  {
   "cell_type": "code",
   "execution_count": 2,
   "id": "f7d9f37a-9d1b-4bb0-bb14-8d4655c4311e",
   "metadata": {},
   "outputs": [
    {
     "name": "stdin",
     "output_type": "stream",
     "text": [
      "Enter a number 7\n"
     ]
    },
    {
     "name": "stdout",
     "output_type": "stream",
     "text": [
      "The factorial of 7 is 5040\n"
     ]
    }
   ],
   "source": [
    "def factorial(n):\n",
    "    if n == 1:\n",
    "        return n\n",
    "    else:\n",
    "        return (n*factorial(n-1))\n",
    "\n",
    "num = int(input(\"Enter a number\"))\n",
    "print(\"The factorial of\", num, \"is\",factorial(num))"
   ]
  },
  {
   "cell_type": "markdown",
   "id": "ed93d680-7a22-4616-85d8-e092fbee79d4",
   "metadata": {},
   "source": [
    "Write a Python Program to calculate your Body Mass Index?"
   ]
  },
  {
   "cell_type": "code",
   "execution_count": 4,
   "id": "5fbaf0d3-281c-4c4d-be32-bdf7062cb7f6",
   "metadata": {},
   "outputs": [
    {
     "name": "stdin",
     "output_type": "stream",
     "text": [
      "Enter weight 66\n",
      "Enter height 1.7\n"
     ]
    },
    {
     "name": "stdout",
     "output_type": "stream",
     "text": [
      "BMI is 22.837370242214536\n"
     ]
    }
   ],
   "source": [
    "wt = float(input(\"Enter weight\"))\n",
    "ht = float(input(\"Enter height\"))\n",
    "bmi = (wt/(ht*ht))\n",
    "print(\"BMI is\",bmi)"
   ]
  },
  {
   "cell_type": "markdown",
   "id": "c97445ad-4ae5-4404-b7c5-29b6c9e61dac",
   "metadata": {},
   "source": [
    " Write a Python Program to calculate the natural logarithm of any number?\n"
   ]
  },
  {
   "cell_type": "code",
   "execution_count": 9,
   "id": "01d816b6-32d7-4631-b9b2-115c249b17fd",
   "metadata": {},
   "outputs": [
    {
     "name": "stdin",
     "output_type": "stream",
     "text": [
      "Enter a number 234\n"
     ]
    },
    {
     "name": "stdout",
     "output_type": "stream",
     "text": [
      "logarithm of 234.0 is 5.455321115357702\n"
     ]
    }
   ],
   "source": [
    "import math\n",
    "\n",
    "num = float(input(\"Enter a number\"))\n",
    "ans = math.log(num)\n",
    "print(\"logarithm of {0} is {1}\".format(num,ans))"
   ]
  },
  {
   "cell_type": "markdown",
   "id": "c356d795-ca98-4496-a17f-c375882fd194",
   "metadata": {},
   "source": [
    "Write a Python Program for cube sum of first n natural numbers"
   ]
  },
  {
   "cell_type": "code",
   "execution_count": null,
   "id": "43fd547f-b657-463e-9669-314dcefb3ad1",
   "metadata": {},
   "outputs": [],
   "source": [
    "n = int(input(\"Enter the number\"))\n",
    "res = 0\n",
    "for i in range(1,n+1):\n",
    "    res = res + (i*i*i)\n",
    "\n",
    "print(\"the sum of cube of first {0} natural numbers is {1}\".format())"
   ]
  }
 ],
 "metadata": {
  "kernelspec": {
   "display_name": "Python 3 (ipykernel)",
   "language": "python",
   "name": "python3"
  },
  "language_info": {
   "codemirror_mode": {
    "name": "ipython",
    "version": 3
   },
   "file_extension": ".py",
   "mimetype": "text/x-python",
   "name": "python",
   "nbconvert_exporter": "python",
   "pygments_lexer": "ipython3",
   "version": "3.9.12"
  }
 },
 "nbformat": 4,
 "nbformat_minor": 5
}
