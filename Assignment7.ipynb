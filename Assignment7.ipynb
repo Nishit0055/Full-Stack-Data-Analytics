{
 "cells": [
  {
   "cell_type": "markdown",
   "id": "a3401aac-8e26-4171-8199-5403e5f2aa5b",
   "metadata": {},
   "source": [
    "Write a Python Program to find sum of array?\n"
   ]
  },
  {
   "cell_type": "code",
   "execution_count": 1,
   "id": "9750b919-1a22-4294-8ea5-8d54d8a057a6",
   "metadata": {},
   "outputs": [
    {
     "name": "stdout",
     "output_type": "stream",
     "text": [
      "33\n"
     ]
    }
   ],
   "source": [
    "arr = [8,5,3,9,8]\n",
    "out = 0\n",
    "for i in arr:\n",
    "    out = out + i\n",
    "    \n",
    "print(out)"
   ]
  },
  {
   "cell_type": "markdown",
   "id": "eaea4708-e961-4e1c-9495-c60f857d8bda",
   "metadata": {},
   "source": [
    "Write a Python Program to find largest element in an array?\n"
   ]
  },
  {
   "cell_type": "code",
   "execution_count": 18,
   "id": "1242c706-cebe-48e2-a2e5-70c43bfa4adc",
   "metadata": {
    "tags": []
   },
   "outputs": [
    {
     "name": "stdout",
     "output_type": "stream",
     "text": [
      "9\n"
     ]
    }
   ],
   "source": [
    "a = [8,5,3,9,8]\n",
    "maxVal = a[0]\n",
    "n = len(a)\n",
    "for i in range(0, n):\n",
    "\tif a[i] > maxval:\n",
    "\t\tmaxVal = a[i]\n",
    "\n",
    "print(maxVal)\n"
   ]
  },
  {
   "cell_type": "markdown",
   "id": "059e1f62-a8b5-43ab-8ac1-6ef984f77998",
   "metadata": {},
   "source": [
    "Write a Python Program for array rotation?\n"
   ]
  },
  {
   "cell_type": "code",
   "execution_count": 3,
   "id": "72ade421-ebb3-417f-8491-8f767797f526",
   "metadata": {},
   "outputs": [
    {
     "name": "stdout",
     "output_type": "stream",
     "text": [
      "Array:\n",
      "22\n",
      "44\n",
      "66\n",
      "88\n",
      "110\n",
      "Rotated array:\n",
      "88\n",
      "110\n",
      "22\n",
      "44\n",
      "66\n"
     ]
    }
   ],
   "source": [
    "lst = [22,44,66,88,110]\n",
    "n = 3\n",
    "print(\"Array:\")\n",
    "for i in lst:\n",
    "    print(i)\n",
    "\n",
    "for i in range(0, n):\n",
    "    start = lst[0]\n",
    "\n",
    "    for j in range(0, len(lst)-1):\n",
    "        lst[j] = lst[j+1]\n",
    "\n",
    "    lst[len(lst)-1] = start\n",
    "\n",
    "print(\"Rotated array:\")\n",
    "for i in range(0, len(lst)):\n",
    "    print(lst[i])"
   ]
  },
  {
   "cell_type": "markdown",
   "id": "dffafc87-1c9c-4e28-9ae0-1d2aa772e532",
   "metadata": {},
   "source": [
    "Write a Python Program to Split the array and add the first part to the end?\n"
   ]
  },
  {
   "cell_type": "code",
   "execution_count": 6,
   "id": "2427b278-6084-43a5-8ef2-cb1b6c9b6ba2",
   "metadata": {},
   "outputs": [
    {
     "name": "stdout",
     "output_type": "stream",
     "text": [
      "66 88 110 22 44 "
     ]
    }
   ],
   "source": [
    "arr = [22,44,66,88,110]\n",
    "n = len(arr)\n",
    "split_pos = 2\n",
    "for i in range(0, split_pos):  \n",
    "\tk = arr[0]\n",
    "\tfor j in range(0, n-1):\n",
    "\t\tarr[j] = arr[j + 1]\n",
    "\tarr[n-1] = k\t\n",
    "    \n",
    "for i in range(0, n):\n",
    "\tprint(arr[i],end=' ')"
   ]
  },
  {
   "cell_type": "markdown",
   "id": "698e4425-45e6-40d6-9756-88cd08093b8a",
   "metadata": {},
   "source": [
    "Write a Python Program to check if given array is Monotonic?"
   ]
  },
  {
   "cell_type": "code",
   "execution_count": 14,
   "id": "9e9373f2-d271-4d9e-8e0c-89f3ab138231",
   "metadata": {
    "tags": []
   },
   "outputs": [
    {
     "name": "stdout",
     "output_type": "stream",
     "text": [
      "False\n",
      "True\n"
     ]
    }
   ],
   "source": [
    "arr = [1,2,3,8,6]\n",
    "dec = False\n",
    "if(arr[0]>arr[1]):\n",
    "         dec = True\n",
    "for i in range(len(arr)-1):\n",
    "      if(arr[i]<arr[i+1] and dec or arr[i]>arr[i+1] and not dec): \n",
    "            print(False)\n",
    "            break\n",
    "\n",
    "print(True)     \n"
   ]
  },
  {
   "cell_type": "code",
   "execution_count": null,
   "id": "fdc872be-e0db-4029-988d-fcfc97512f2c",
   "metadata": {},
   "outputs": [],
   "source": []
  }
 ],
 "metadata": {
  "kernelspec": {
   "display_name": "Python 3 (ipykernel)",
   "language": "python",
   "name": "python3"
  },
  "language_info": {
   "codemirror_mode": {
    "name": "ipython",
    "version": 3
   },
   "file_extension": ".py",
   "mimetype": "text/x-python",
   "name": "python",
   "nbconvert_exporter": "python",
   "pygments_lexer": "ipython3",
   "version": "3.9.12"
  }
 },
 "nbformat": 4,
 "nbformat_minor": 5
}
