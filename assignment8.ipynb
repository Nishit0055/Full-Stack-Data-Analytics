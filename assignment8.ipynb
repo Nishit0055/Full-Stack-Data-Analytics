{
 "cells": [
  {
   "cell_type": "markdown",
   "id": "cbd03fb8-6452-4a3d-bb53-c657eb2ad0d8",
   "metadata": {},
   "source": [
    "Write a Python Program to Add Two Matrices?"
   ]
  },
  {
   "cell_type": "code",
   "execution_count": 12,
   "id": "fc5d3ae5-49ce-435a-9af3-8368a6985c69",
   "metadata": {},
   "outputs": [
    {
     "name": "stdout",
     "output_type": "stream",
     "text": [
      "[9, 13, 5]\n",
      "[10, 6, 15]\n",
      "[1, 9, 8]\n"
     ]
    }
   ],
   "source": [
    "mat1 = [[2,7,5],\n",
    "     [6 ,2,6],\n",
    "     [0 ,1,5]]\n",
    "\n",
    "mat2 = [[7,6,0],\n",
    "    [4,4,9],\n",
    "    [1,8,3]]\n",
    "\n",
    "output = [[0,0,0],\n",
    "         [0,0,0],\n",
    "         [0,0,0]]\n",
    "\n",
    "for i in range(len(mat1)):\n",
    "    for j in range(len(mat1[0])):\n",
    "        output[i][j] = mat1[i][j] + mat2[i][j]\n",
    "\n",
    "for k in output:\n",
    "    print(k)"
   ]
  },
  {
   "cell_type": "markdown",
   "id": "0e1ed9a8-8197-4fc7-bab3-9659069acb7a",
   "metadata": {},
   "source": [
    "Write a Python Program to Multiply Two Matrices?"
   ]
  },
  {
   "cell_type": "code",
   "execution_count": 13,
   "id": "2c1ed0e4-74c9-4541-b8d9-c8c5456c6daa",
   "metadata": {},
   "outputs": [
    {
     "name": "stdout",
     "output_type": "stream",
     "text": [
      "[47, 80, 78]\n",
      "[56, 92, 36]\n",
      "[9, 44, 24]\n"
     ]
    }
   ],
   "source": [
    "mat1 = [[2,7,5],\n",
    "     [6 ,2,6],\n",
    "     [0 ,1,5]]\n",
    "\n",
    "mat2 = [[7,6,0],\n",
    "    [4,4,9],\n",
    "    [1,8,3]]\n",
    "\n",
    "output = [[0,0,0],\n",
    "         [0,0,0],\n",
    "         [0,0,0]]\n",
    "\n",
    "for i in range(len(mat1)):\n",
    "    for j in range(len(mat1[0])):\n",
    "        for k in range(len(mat2)):\n",
    "            output[i][j] += mat1[i][k] * mat2[k][j]\n",
    "        \n",
    "for k in output:\n",
    "    print(k)"
   ]
  },
  {
   "cell_type": "markdown",
   "id": "10a4ebd2-69a9-4d78-afae-3983a0338fc5",
   "metadata": {},
   "source": [
    "Write a Python Program to Transpose a Matrix?"
   ]
  },
  {
   "cell_type": "code",
   "execution_count": 15,
   "id": "a05b3578-76d0-461e-97d3-e0511d7779b0",
   "metadata": {},
   "outputs": [
    {
     "name": "stdout",
     "output_type": "stream",
     "text": [
      "[[1 9]\n",
      " [2 8]\n",
      " [3 7]\n",
      " [4 6]]\n"
     ]
    }
   ],
   "source": [
    "import numpy as np\n",
    "arr1 = np.array([[1, 2, 3, 4],\n",
    "                 [9, 8, 7, 6]])\n",
    "arr2 = arr1.transpose()\n",
    "print(arr2)"
   ]
  },
  {
   "cell_type": "markdown",
   "id": "069e2acb-18d0-4340-96b3-a7490284a62a",
   "metadata": {},
   "source": [
    "Write a Python Program to Sort Words in Alphabetic Order?"
   ]
  },
  {
   "cell_type": "code",
   "execution_count": 18,
   "id": "59e33d90-fd22-4b6a-941d-e43efd85068d",
   "metadata": {},
   "outputs": [
    {
     "name": "stdout",
     "output_type": "stream",
     "text": [
      "['abhishek', 'niket', 'sanket', 'shivansh', 'yash']\n"
     ]
    }
   ],
   "source": [
    "names = (\"yash\",\"niket\",\"abhishek\",\"sanket\",\"shivansh\")\n",
    "x = sorted(names)\n",
    "print(x)"
   ]
  },
  {
   "cell_type": "markdown",
   "id": "2164d78f-94b6-4415-8cb5-556987304ce3",
   "metadata": {},
   "source": [
    " Write a Python Program to Remove Punctuation From a String?"
   ]
  },
  {
   "cell_type": "code",
   "execution_count": 24,
   "id": "20e3aabc-933b-4043-9e95-53c43b221cf4",
   "metadata": {},
   "outputs": [
    {
     "name": "stdout",
     "output_type": "stream",
     "text": [
      "hi what are you up to\n"
     ]
    }
   ],
   "source": [
    "import string\n",
    "\n",
    "char = 'hi! w??hat are yo[u] up t?o'\n",
    "\n",
    "for i in string.punctuation:\n",
    "    char = char.replace(i, '')\n",
    "\n",
    "print(char)"
   ]
  }
 ],
 "metadata": {
  "kernelspec": {
   "display_name": "Python 3 (ipykernel)",
   "language": "python",
   "name": "python3"
  },
  "language_info": {
   "codemirror_mode": {
    "name": "ipython",
    "version": 3
   },
   "file_extension": ".py",
   "mimetype": "text/x-python",
   "name": "python",
   "nbconvert_exporter": "python",
   "pygments_lexer": "ipython3",
   "version": "3.9.12"
  }
 },
 "nbformat": 4,
 "nbformat_minor": 5
}
